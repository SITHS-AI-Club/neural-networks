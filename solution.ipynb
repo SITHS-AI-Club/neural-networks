{
 "cells": [
  {
   "cell_type": "markdown",
   "metadata": {
    "colab_type": "text",
    "id": "zEOvcgQj28gL"
   },
   "source": [
    "# Deep & Convolutional Neural Networks"
   ]
  },
  {
   "cell_type": "code",
   "execution_count": 0,
   "metadata": {
    "colab": {},
    "colab_type": "code",
    "id": "BpEE2qnp28gR",
    "scrolled": true
   },
   "outputs": [],
   "source": [
    "# =========================================================================================================================================== #\n",
    "# ======= STOP! IF ON COLAB, MAKE SURE YOU ENABLE GPU SUPPORT BY GOING TO RUNTIME > CHANGE RUNTIME TYPE > HARDWARE ACCELERATOR > GPU ======== #\n",
    "# ========^^^^^^^^^^^^^^^^^^^^^^^^^^^^^^^^^^^^^^^^^^^^^^^^^^^^^^^^^^^^^^^^^^^^^^^^^^^^^^^^^^^^^^^^^^^^^^^^^^^^^^^^^^^^^^^^^^^^^^^^^^^======== #\n",
    "!pip install keras==2.3.1\n",
    "!pip install --upgrade tensorflow\n",
    "# version prerequisite before we start"
   ]
  },
  {
   "cell_type": "code",
   "execution_count": 0,
   "metadata": {
    "colab": {},
    "colab_type": "code",
    "id": "Zyyca8Td28gc"
   },
   "outputs": [],
   "source": [
    "import numpy as np\n",
    "import pandas as pd\n",
    "# These python libraries are standard for use with deep learning. Think of bringing a toolbox with a\n",
    "# bunch of useful functions when you call 'import'. We rename each into `np` and `pd` to save time"
   ]
  },
  {
   "cell_type": "markdown",
   "metadata": {
    "colab_type": "text",
    "id": "-SepHoqu28gj"
   },
   "source": [
    "### Now, we'll download a dataset of images that we can use for training. They are a compilation of handwritten digits, called MNIST."
   ]
  },
  {
   "cell_type": "code",
   "execution_count": 0,
   "metadata": {
    "colab": {},
    "colab_type": "code",
    "id": "uGV49c6428gn"
   },
   "outputs": [],
   "source": [
    "from keras.datasets import mnist \n",
    "# importing the dataset library"
   ]
  },
  {
   "cell_type": "code",
   "execution_count": 0,
   "metadata": {
    "colab": {},
    "colab_type": "code",
    "id": "NsSHZ2R128gt"
   },
   "outputs": [],
   "source": [
    "(x_train, y_train), (x_test, y_test) = mnist.load_data() \n",
    "# downloading the dataset. We also split the data into `train` and `test`, remember this for later..."
   ]
  },
  {
   "cell_type": "markdown",
   "metadata": {
    "colab_type": "text",
    "id": "ae4Ki1U028g4"
   },
   "source": [
    "### We use the `x_train` and `y_train` to make the model learn/'train' (obviously) on handwritten digits. \n",
    "### Then, we test how good the model is using `x_test` and `y_test`, which are handwritten image data that it had _never_ seen before."
   ]
  },
  {
   "cell_type": "code",
   "execution_count": 0,
   "metadata": {
    "colab": {},
    "colab_type": "code",
    "id": "-uDEjsOP28g6"
   },
   "outputs": [],
   "source": [
    "import matplotlib.pyplot as plt \n",
    "# This library can be used to visualize the kind of data we just downloaded"
   ]
  },
  {
   "cell_type": "code",
   "execution_count": 38,
   "metadata": {
    "colab": {
     "base_uri": "https://localhost:8080/",
     "height": 158
    },
    "colab_type": "code",
    "id": "9C3FYQn928hB",
    "outputId": "3e2d7afe-9c0a-4209-d31d-ebb7436746d9"
   },
   "outputs": [
    {
     "data": {
      "image/png": "[encoded data removed]",
      "text/plain": [
       "<Figure size 1440x1440 with 10 Axes>"
      ]
     },
     "metadata": {
      "tags": []
     },
     "output_type": "display_data"
    }
   ],
   "source": [
    "fig, axs = plt.subplots(1,10,figsize=(20,20))\n",
    "for i,ax in enumerate(axs):\n",
    "    ax.label_outer()\n",
    "    ax.imshow(x_train[i])\n",
    "    ax.set_title(f'Label: {y_train[i]}')"
   ]
  },
  {
   "cell_type": "markdown",
   "metadata": {
    "colab_type": "text",
    "id": "UDO5zVkt28hL"
   },
   "source": [
    "### ^^ These are 10 pics of different numbers, with (hopefully) correct labels corresponding it\n"
   ]
  },
  {
   "cell_type": "code",
   "execution_count": 0,
   "metadata": {
    "colab": {},
    "colab_type": "code",
    "id": "mouPNq1_28hO"
   },
   "outputs": [],
   "source": [
    "from keras.utils import to_categorical\n",
    "y_train = to_categorical(y_train, 10)\n",
    "y_test = to_categorical(y_test, 10)\n",
    "# we need to reformat some of the labels into a more usable form for later. This is called one-hot encoding (google it if you like)."
   ]
  },
  {
   "cell_type": "markdown",
   "metadata": {
    "colab_type": "text",
    "id": "ZKGJtzoi28hY"
   },
   "source": [
    "---"
   ]
  },
  {
   "cell_type": "markdown",
   "metadata": {
    "colab_type": "text",
    "id": "lcycQpXo28hc"
   },
   "source": [
    "# Keras"
   ]
  },
  {
   "cell_type": "markdown",
   "metadata": {
    "colab_type": "text",
    "id": "pAEYjx2_28hd"
   },
   "source": [
    "### Hold up, whats Deep Learning again?\n",
    "![DNN illustration](https://ml4a.github.io/images/figures/mnist_1layer.png)\n",
    "### Deep Learning gets computers to do certain things that humans could do really well (e.g. identifing digits) by modeling a simple brain with mathematical neurons/nodes, represented as lines and circles as seen above.\n",
    "### Using this, we can train a model that can very accurately determine digits on an image."
   ]
  },
  {
   "cell_type": "markdown",
   "metadata": {
    "colab_type": "text",
    "id": "xKAxjAb-28hf"
   },
   "source": [
    "### Keras is a toolbox of functions just like `numpy` and `pandas`, which is instead specialized for dealing with Artificial Intelligence and Deep Learning..."
   ]
  },
  {
   "cell_type": "code",
   "execution_count": 0,
   "metadata": {
    "colab": {},
    "colab_type": "code",
    "id": "jRBsPf7q28hi"
   },
   "outputs": [],
   "source": [
    "import keras\n",
    "# we will be importting certain functions individually later, but its safe to have the whole library than to be sorry"
   ]
  },
  {
   "cell_type": "markdown",
   "metadata": {
    "colab_type": "text",
    "id": "DKAxROA828hr"
   },
   "source": [
    "### Keras is based off of the TensorFlow deep learning library, which is developed by Google. Keras is one of the _easiest_ libraries to use."
   ]
  },
  {
   "cell_type": "code",
   "execution_count": 41,
   "metadata": {
    "colab": {
     "base_uri": "https://localhost:8080/",
     "height": 35
    },
    "colab_type": "code",
    "id": "dDhOM7X428hu",
    "outputId": "3814610b-4186-4e39-c0d5-8233fbd04b0f"
   },
   "outputs": [
    {
     "name": "stdout",
     "output_type": "stream",
     "text": [
      "channels_last\n"
     ]
    }
   ],
   "source": [
    "print(keras.backend.image_data_format()) \n",
    "# this is a sanity check, please run and make sure it outputs 'channels_last'. Let us know if it doesn't (low chances of it happening anyways)."
   ]
  },
  {
   "cell_type": "markdown",
   "metadata": {
    "colab_type": "text",
    "id": "UWEfr5Mg28hz"
   },
   "source": [
    "---"
   ]
  },
  {
   "cell_type": "markdown",
   "metadata": {
    "colab_type": "text",
    "id": "TNjd2ytt28h2"
   },
   "source": [
    "## Making a model with Keras"
   ]
  },
  {
   "cell_type": "code",
   "execution_count": 0,
   "metadata": {
    "colab": {},
    "colab_type": "code",
    "id": "UjqyNft828h5"
   },
   "outputs": [],
   "source": [
    "from keras.models import Sequential \n",
    "# allows us to 'build' our deep learning models for prediction\n",
    "from keras.layers import Dense, Activation, Flatten \n",
    "# Some building blocks for our models"
   ]
  },
  {
   "cell_type": "code",
   "execution_count": 0,
   "metadata": {
    "colab": {},
    "colab_type": "code",
    "id": "2cq-IMqh28iE"
   },
   "outputs": [],
   "source": [
    "model = Sequential() \n",
    "# initializing a new model to be made with keras"
   ]
  },
  {
   "cell_type": "code",
   "execution_count": 0,
   "metadata": {
    "colab": {},
    "colab_type": "code",
    "id": "0A4zPfcH28iM"
   },
   "outputs": [],
   "source": [
    "model.add(Flatten()) # Turn image into a list of numbers to crunch up \n",
    "model.add(Dense(16, activation='relu', input_shape=(28*28,))) # input_shape = the dimensions of our image, which is 28 x 28\n",
    "model.add(Dense(32, activation='relu')) \n",
    "model.add(Dense(10, activation='softmax'))\n",
    "\n",
    "# activation functions => Imagine this kinda like thresholds and action potentials of brain neurons.\n",
    "\n",
    "# 'relu' is an extremely popular and efficient choice for layers before your last\n",
    "# 'sigmoid' is chosen if your last layer only has one output node, 'softmax' if multiple nodes\n",
    "\n",
    "# More info: https://missinglink.ai/guides/neural-network-concepts/7-types-neural-network-activation-functions-right/"
   ]
  },
  {
   "cell_type": "code",
   "execution_count": 0,
   "metadata": {
    "colab": {},
    "colab_type": "code",
    "id": "yp-xpYyy28iU"
   },
   "outputs": [],
   "source": [
    "model.compile(loss='categorical_crossentropy',\n",
    "              optimizer='adam',\n",
    "              metrics=['accuracy'])\n",
    "\n",
    "# loss: tells us how far the model is from the 'correct' answer (label). Is basically the model's 'report card' of how well it's doing\n",
    "# 'categorical_crossentropy' is a robust choice for a loss function when classifiying multiple classes (digits from 0 to 9)\n",
    "\n",
    "# optimizer: necessary for the model to learn from loss and improve over time as it trains.\n",
    "# 'adam' is a very efficient optimizer, now used on some of the best deep learning models"
   ]
  },
  {
   "cell_type": "markdown",
   "metadata": {
    "colab_type": "text",
    "id": "0PhD3KZV28ic"
   },
   "source": [
    "### Below, we are 'training' the model by giving it lots of data from `x_train` and `y_train`\n",
    "### You'll start to see progress bars as the model crunches millions of numbers and learn how to tell apart different numbers."
   ]
  },
  {
   "cell_type": "code",
   "execution_count": 46,
   "metadata": {
    "colab": {
     "base_uri": "https://localhost:8080/",
     "height": 364
    },
    "colab_type": "code",
    "id": "DGmMpyD828ie",
    "outputId": "8292b5e7-eda1-4bdd-a9a5-6e605b4cc8b7",
    "scrolled": true
   },
   "outputs": [
    {
     "name": "stdout",
     "output_type": "stream",
     "text": [
      "Epoch 1/10\n",
      "60000/60000 [==============================] - 2s 31us/step - loss: 3.0560 - accuracy: 0.2355\n",
      "Epoch 2/10\n",
      "60000/60000 [==============================] - 2s 29us/step - loss: 1.5068 - accuracy: 0.4029\n",
      "Epoch 3/10\n",
      "60000/60000 [==============================] - 2s 28us/step - loss: 1.2297 - accuracy: 0.5241\n",
      "Epoch 4/10\n",
      "60000/60000 [==============================] - 2s 30us/step - loss: 0.8333 - accuracy: 0.7324\n",
      "Epoch 5/10\n",
      "60000/60000 [==============================] - 2s 27us/step - loss: 0.6013 - accuracy: 0.8326\n",
      "Epoch 6/10\n",
      "60000/60000 [==============================] - 2s 28us/step - loss: 0.5192 - accuracy: 0.8589\n",
      "Epoch 7/10\n",
      "60000/60000 [==============================] - 2s 27us/step - loss: 0.4798 - accuracy: 0.8698\n",
      "Epoch 8/10\n",
      "60000/60000 [==============================] - 2s 28us/step - loss: 0.4502 - accuracy: 0.8789\n",
      "Epoch 9/10\n",
      "60000/60000 [==============================] - 2s 29us/step - loss: 0.4203 - accuracy: 0.8848\n",
      "Epoch 10/10\n",
      "60000/60000 [==============================] - 2s 28us/step - loss: 0.4021 - accuracy: 0.8887\n"
     ]
    }
   ],
   "source": [
    "history = model.fit(x_train,\n",
    "                    y_train,\n",
    "                    batch_size=128, \n",
    "                    epochs=10) \n",
    "\n",
    "# batch size: how many images do you want the model to 'look' at before tweaking itself?\n",
    "# epochs: how many times do you want the model to work through all the images you gave?"
   ]
  },
  {
   "cell_type": "markdown",
   "metadata": {
    "colab_type": "text",
    "id": "3W4juKuu28ij"
   },
   "source": [
    "---"
   ]
  },
  {
   "cell_type": "markdown",
   "metadata": {
    "colab_type": "text",
    "id": "xBu0XfyX28il"
   },
   "source": [
    "### We can also see how loss and accuracy changes over time (for the better in this case)\n",
    "### We get and plot the information from `history`, which is defined when we were training the model right before"
   ]
  },
  {
   "cell_type": "code",
   "execution_count": 47,
   "metadata": {
    "colab": {
     "base_uri": "https://localhost:8080/",
     "height": 336
    },
    "colab_type": "code",
    "id": "whN-7zk128io",
    "outputId": "36af0f51-9fd8-41e7-9125-4cc7c06ec5bb"
   },
   "outputs": [
    {
     "data": {
      "image/png": "[encoded data removed]",
      "text/plain": [
       "<Figure size 1080x360 with 2 Axes>"
      ]
     },
     "metadata": {
      "tags": []
     },
     "output_type": "display_data"
    }
   ],
   "source": [
    "fig, axs = plt.subplots(1,2,figsize=(15,5))\n",
    "axs[0].plot(history.history['loss'])\n",
    "axs[0].set_title('Loss')\n",
    "axs[1].plot(history.history['accuracy'])\n",
    "axs[1].set_title('Training Accuracy')\n",
    "fig.show()"
   ]
  },
  {
   "cell_type": "markdown",
   "metadata": {
    "colab_type": "text",
    "id": "VjV8_SQB28iy"
   },
   "source": [
    "## Time for the great reveal: __testing our model__"
   ]
  },
  {
   "cell_type": "code",
   "execution_count": 48,
   "metadata": {
    "colab": {
     "base_uri": "https://localhost:8080/",
     "height": 35
    },
    "colab_type": "code",
    "id": "J1HVXZZv28iz",
    "outputId": "341f7f20-b73f-403e-80a8-5df50f03cc34"
   },
   "outputs": [
    {
     "name": "stdout",
     "output_type": "stream",
     "text": [
      "10000/10000 [==============================] - 1s 61us/step\n"
     ]
    }
   ],
   "source": [
    "score = model.evaluate(x_test, y_test) \n",
    "# we use x_test and y_test to see if our model lives up to its purpose"
   ]
  },
  {
   "cell_type": "code",
   "execution_count": 49,
   "metadata": {
    "colab": {
     "base_uri": "https://localhost:8080/",
     "height": 52
    },
    "colab_type": "code",
    "id": "QQf1XkLI28i6",
    "outputId": "438c4891-1122-4894-c90c-cc66c0dcf0da"
   },
   "outputs": [
    {
     "name": "stdout",
     "output_type": "stream",
     "text": [
      "Testing Accuracy: 88.8%\n",
      "Testing Loss: 0.4157\n"
     ]
    }
   ],
   "source": [
    "print(f'Testing Accuracy: {round(score[1]*100,4)}%')\n",
    "print(f'Testing Loss: {round(score[0],4)}')\n",
    "# print our test scores (Accuracy and Loss)"
   ]
  },
  {
   "cell_type": "markdown",
   "metadata": {
    "colab_type": "text",
    "id": "tk3MuJr628i_"
   },
   "source": [
    "### Usually, it is normal if testing metrics are overall worse than training; after all, the model never saw any of the test data. However, we can still improve this..."
   ]
  },
  {
   "cell_type": "markdown",
   "metadata": {
    "colab_type": "text",
    "id": "vrKuoXHj28jB"
   },
   "source": [
    "---"
   ]
  },
  {
   "cell_type": "markdown",
   "metadata": {
    "colab_type": "text",
    "id": "hdktQxPD28jD"
   },
   "source": [
    "# Convolutional Neural Networks (CNNs): specialized for image data, like the MNIST handwritten digit dataset."
   ]
  },
  {
   "cell_type": "markdown",
   "metadata": {
    "colab_type": "text",
    "id": "E5m1uiap28jF"
   },
   "source": [
    "![CNN animation](https://raw.githubusercontent.com/vdumoulin/conv_arithmetic/master/gif/same_padding_no_strides.gif)"
   ]
  },
  {
   "cell_type": "markdown",
   "metadata": {
    "colab_type": "text",
    "id": "ED96L-Dy28jG"
   },
   "source": [
    "### The bottom (blue) is the original image, and the top (cyan) represents the output of the convolution layer. All of this operates on a _kernel_ , which you see is the 3 x 3 pixel shadow on the bottom transformed into one pixel at the top.\n",
    "\n",
    "### Convolution layers can have many kernels in a CNN. Kernels look for specific patterns they're assigned with and trace all over the input. They output a very high value if they come across patterns on the input that matches theirs well ... and vice versa.\n",
    "\n",
    "### All of this helps to extract only the most important features on the input (image) that determines it's classification (in our case, its the core features that classify which number it is)\n",
    "\n",
    "### Look below for a visualization of CNN's up close (or [here](https://youtu.be/f0t-OCG79-U))"
   ]
  },
  {
   "cell_type": "code",
   "execution_count": 50,
   "metadata": {
    "colab": {
     "base_uri": "https://localhost:8080/",
     "height": 336
    },
    "colab_type": "code",
    "id": "aDZATgqq28jI",
    "outputId": "9ff818e4-2261-4636-e0db-6b0ba8a3c64e"
   },
   "outputs": [
    {
     "data": {
      "text/html": [
       "<iframe width=\"560\" height=\"315\" src=\"https://www.youtube-nocookie.com/embed/f0t-OCG79-U\" frameborder=\"0\" allow=\"accelerometer; autoplay; encrypted-media; gyroscope; picture-in-picture\" allowfullscreen></iframe>"
      ],
      "text/plain": [
       "<IPython.core.display.HTML object>"
      ]
     },
     "metadata": {
      "tags": []
     },
     "output_type": "display_data"
    }
   ],
   "source": [
    "%%HTML\n",
    "<iframe width=\"560\" height=\"315\" src=\"https://www.youtube-nocookie.com/embed/f0t-OCG79-U\" frameborder=\"0\" allow=\"accelerometer; autoplay; encrypted-media; gyroscope; picture-in-picture\" allowfullscreen></iframe>"
   ]
  },
  {
   "cell_type": "markdown",
   "metadata": {
    "colab_type": "text",
    "id": "dLoXyoQQ28jS"
   },
   "source": [
    "---\n",
    "## Making a CNN"
   ]
  },
  {
   "cell_type": "code",
   "execution_count": 0,
   "metadata": {
    "colab": {},
    "colab_type": "code",
    "id": "Q4wpGIxV28jU"
   },
   "outputs": [],
   "source": [
    "from keras.layers import Conv2D, MaxPooling2D \n",
    "# we import certain keras-specific functions that let us build CNNs"
   ]
  },
  {
   "cell_type": "code",
   "execution_count": 0,
   "metadata": {
    "colab": {},
    "colab_type": "code",
    "id": "fZYfn-DA28ja"
   },
   "outputs": [],
   "source": [
    "img_rows = 28\n",
    "img_cols = 28\n",
    "x_train = x_train.reshape(x_train.shape[0], img_rows, img_cols, 1)\n",
    "x_test = x_test.reshape(x_test.shape[0], img_rows, img_cols, 1)\n",
    "input_shape = (img_rows, img_cols, 1)\n",
    "\n",
    "# We are preprocessing input data... \n",
    "# Convolution layers (Conv2D) expect a 3rd layer of RGB color, but MNIST is only single-color channeled (black-white)"
   ]
  },
  {
   "cell_type": "code",
   "execution_count": 0,
   "metadata": {
    "colab": {},
    "colab_type": "code",
    "id": "yUD4FPa728jh"
   },
   "outputs": [],
   "source": [
    "model_cnn = Sequential()\n",
    "# start another model instance"
   ]
  },
  {
   "cell_type": "code",
   "execution_count": 0,
   "metadata": {
    "colab": {},
    "colab_type": "code",
    "id": "hFoR2w1r28jo"
   },
   "outputs": [],
   "source": [
    "model_cnn.add(Conv2D(16, kernel_size=(3,3),activation='relu',input_shape=input_shape))\n",
    "model_cnn.add(Conv2D(32, kernel_size=(3,3),activation='relu'))\n",
    "model_cnn.add(MaxPooling2D()) \n",
    "model_cnn.add(Flatten())\n",
    "model_cnn.add(Dense(128, activation='relu'))\n",
    "model_cnn.add(Dense(10, activation='softmax'))\n",
    "\n",
    "# kernel_size: pretty self-explanatory (how big your kernel is, in terms of pixels)\n",
    "# MaxPooling2D is similar to convolution layers, but instead they filter only the highest-valued pixel out of a small region. \n",
    "# This helps to decrease computational load, while making it easier to generalize on slightly different data (in this case, different handwriting)"
   ]
  },
  {
   "cell_type": "code",
   "execution_count": 0,
   "metadata": {
    "colab": {},
    "colab_type": "code",
    "id": "_7W6arnN28ju"
   },
   "outputs": [],
   "source": [
    "model_cnn.compile(loss='categorical_crossentropy',\n",
    "                 optimizer='adam',\n",
    "                 metrics=['accuracy'])"
   ]
  },
  {
   "cell_type": "code",
   "execution_count": 56,
   "metadata": {
    "colab": {
     "base_uri": "https://localhost:8080/",
     "height": 191
    },
    "colab_type": "code",
    "id": "LvynvEQx28j0",
    "outputId": "2aa96d1e-6808-4410-b4e9-23f32dc73350",
    "scrolled": true
   },
   "outputs": [
    {
     "name": "stdout",
     "output_type": "stream",
     "text": [
      "Epoch 1/5\n",
      "60000/60000 [==============================] - 3s 47us/step - loss: 0.5499 - accuracy: 0.9386\n",
      "Epoch 2/5\n",
      "60000/60000 [==============================] - 3s 43us/step - loss: 0.0473 - accuracy: 0.9851\n",
      "Epoch 3/5\n",
      "60000/60000 [==============================] - 3s 43us/step - loss: 0.0276 - accuracy: 0.9911\n",
      "Epoch 4/5\n",
      "60000/60000 [==============================] - 3s 44us/step - loss: 0.0208 - accuracy: 0.9932\n",
      "Epoch 5/5\n",
      "60000/60000 [==============================] - 3s 43us/step - loss: 0.0169 - accuracy: 0.9942\n"
     ]
    }
   ],
   "source": [
    "history_cnn = model_cnn.fit(x_train,\n",
    "                            y_train,\n",
    "                            batch_size=128,\n",
    "                            epochs=5) \n",
    "# using less epochs since CNN's are more computation-heavy and take more time for each epoch"
   ]
  },
  {
   "cell_type": "markdown",
   "metadata": {
    "colab_type": "text",
    "id": "0F-Aj7nx28j6"
   },
   "source": [
    "### You can see how each epoch takes longer to complete. A CNN requires much more computing power and will need to train for a long time, unless you have a GPU."
   ]
  },
  {
   "cell_type": "code",
   "execution_count": 57,
   "metadata": {
    "colab": {
     "base_uri": "https://localhost:8080/",
     "height": 35
    },
    "colab_type": "code",
    "id": "UJd0skQ528j8",
    "outputId": "92949b69-2313-4b5d-c26d-f8e460b00e83"
   },
   "outputs": [
    {
     "name": "stdout",
     "output_type": "stream",
     "text": [
      "10000/10000 [==============================] - 1s 64us/step\n"
     ]
    }
   ],
   "source": [
    "score = model_cnn.evaluate(x_test,y_test)"
   ]
  },
  {
   "cell_type": "code",
   "execution_count": 58,
   "metadata": {
    "colab": {
     "base_uri": "https://localhost:8080/",
     "height": 52
    },
    "colab_type": "code",
    "id": "gzAS8ZPb28kB",
    "outputId": "eceeae00-a0be-4ca7-cccf-fbb4b943d792"
   },
   "outputs": [
    {
     "name": "stdout",
     "output_type": "stream",
     "text": [
      "Testing Accuracy: 98.06%\n",
      "Testing Loss: 0.0772\n"
     ]
    }
   ],
   "source": [
    "print(f'Testing Accuracy: {round(score[1]*100,4)}%')\n",
    "print(f'Testing Loss: {round(score[0],4)}')"
   ]
  },
  {
   "cell_type": "markdown",
   "metadata": {
    "colab_type": "text",
    "id": "woWx9f7T28kG"
   },
   "source": [
    "### If done correctly, our score with the CNN should be higher than our previous model. Rerun cells from `model_cnn = Sequential()` if you get an oddly low score."
   ]
  },
  {
   "cell_type": "markdown",
   "metadata": {
    "colab_type": "text",
    "id": "1a27Q1__28kH"
   },
   "source": [
    "---"
   ]
  },
  {
   "cell_type": "markdown",
   "metadata": {
    "colab_type": "text",
    "id": "DIagBru828kJ"
   },
   "source": [
    "# __*CHALLENGE*__"
   ]
  },
  {
   "cell_type": "code",
   "execution_count": 59,
   "metadata": {
    "colab": {
     "base_uri": "https://localhost:8080/",
     "height": 156
    },
    "colab_type": "code",
    "id": "nE6AlHLR28kK",
    "outputId": "130c2fe0-708a-4735-b1ea-11a2b3f19646"
   },
   "outputs": [
    {
     "name": "stdout",
     "output_type": "stream",
     "text": [
      "Downloading data from http://fashion-mnist.s3-website.eu-central-1.amazonaws.com/train-labels-idx1-ubyte.gz\n",
      "32768/29515 [=================================] - 0s 9us/step\n",
      "Downloading data from http://fashion-mnist.s3-website.eu-central-1.amazonaws.com/train-images-idx3-ubyte.gz\n",
      "26427392/26421880 [==============================] - 4s 0us/step\n",
      "Downloading data from http://fashion-mnist.s3-website.eu-central-1.amazonaws.com/t10k-labels-idx1-ubyte.gz\n",
      "8192/5148 [===============================================] - 0s 0us/step\n",
      "Downloading data from http://fashion-mnist.s3-website.eu-central-1.amazonaws.com/t10k-images-idx3-ubyte.gz\n",
      "4423680/4422102 [==============================] - 2s 1us/step\n"
     ]
    }
   ],
   "source": [
    "from keras.datasets import fashion_mnist\n",
    "(x_train, y_train), (x_test, y_test) = fashion_mnist.load_data()\n",
    "x_train = x_train.reshape(x_train.shape[0], img_rows, img_cols, 1)\n",
    "x_test = x_test.reshape(x_test.shape[0], img_rows, img_cols, 1)\n",
    "y_train = to_categorical(y_train, 10)\n",
    "y_test = to_categorical(y_test, 10)\n",
    "# Loading Fashion-MNIST dataset for challenge"
   ]
  },
  {
   "cell_type": "markdown",
   "metadata": {
    "colab_type": "text",
    "id": "cw0s3KcY28kO"
   },
   "source": [
    "### You are given a dataset called Fashion_MNIST, a collection of images of different types of clothing (pants, shirts, shoes, etc.) \n",
    "### __Make a CNN that can tell apart between these different images, just like the previous examples__\n",
    "### You have reference to all resources in this notebook, as well as the [keras documentation](https://keras.io/). <sub><sup>(hint: some code that makes the CNN for this dataset is avaliable there!)</sup></sub>"
   ]
  },
  {
   "cell_type": "code",
   "execution_count": 63,
   "metadata": {
    "colab": {
     "base_uri": "https://localhost:8080/",
     "height": 52
    },
    "colab_type": "code",
    "id": "RqM4qZbpgOac",
    "outputId": "9776c1c8-6e79-48ce-b80a-dae36391133c"
   },
   "outputs": [
    {
     "name": "stdout",
     "output_type": "stream",
     "text": [
      "(60000, 28, 28, 1)\n",
      "(60000, 10)\n"
     ]
    }
   ],
   "source": [
    "print(x_train.shape)\n",
    "print(y_train.shape)\n",
    "#examining the data I'm working with"
   ]
  },
  {
   "cell_type": "code",
   "execution_count": 0,
   "metadata": {
    "colab": {},
    "colab_type": "code",
    "id": "DTDKBrSO28kP"
   },
   "outputs": [],
   "source": [
    "fashion_cnn = Sequential()"
   ]
  },
  {
   "cell_type": "code",
   "execution_count": 0,
   "metadata": {
    "colab": {},
    "colab_type": "code",
    "id": "XtydPMeLgtXq"
   },
   "outputs": [],
   "source": [
    "from keras.layers import Dropout\n",
    "# if you're fancy, you can use dropout, which sort of handicaps your model during training so it performs better during testing.\n",
    "# Think of it as tying weights to your legs while runnng to build strength for the real race/marathon/whatever..."
   ]
  },
  {
   "cell_type": "code",
   "execution_count": 0,
   "metadata": {
    "colab": {},
    "colab_type": "code",
    "id": "JUAIZ8Hqf2iW"
   },
   "outputs": [],
   "source": [
    "fashion_cnn.add(Conv2D(32,kernel_size=(3,3),activation='relu',input_shape=(28,28,1))) \n",
    "fashion_cnn.add(Conv2D(64,kernel_size=(3,3),activation='relu'))\n",
    "fashion_cnn.add(MaxPooling2D())\n",
    "fashion_cnn.add(Dropout(0.25))\n",
    "fashion_cnn.add(Flatten())\n",
    "fashion_cnn.add(Dense(128, activation='relu'))\n",
    "fashion_cnn.add(Dropout(0.3))\n",
    "fashion_cnn.add(Dense(10, activation='softmax'))"
   ]
  },
  {
   "cell_type": "code",
   "execution_count": 0,
   "metadata": {
    "colab": {},
    "colab_type": "code",
    "id": "FaC-lyJGib2P"
   },
   "outputs": [],
   "source": [
    "fashion_cnn.compile(loss='categorical_crossentropy',\n",
    "                    optimizer='adam',\n",
    "                    metrics=['accuracy'])"
   ]
  },
  {
   "cell_type": "code",
   "execution_count": 67,
   "metadata": {
    "colab": {
     "base_uri": "https://localhost:8080/",
     "height": 555
    },
    "colab_type": "code",
    "id": "iwQ-qtMJiuKQ",
    "outputId": "b0906172-6010-47bb-9fd8-299705590849"
   },
   "outputs": [
    {
     "name": "stdout",
     "output_type": "stream",
     "text": [
      "Epoch 1/15\n",
      "60000/60000 [==============================] - 5s 80us/step - loss: 0.9799 - accuracy: 0.8128\n",
      "Epoch 2/15\n",
      "60000/60000 [==============================] - 4s 73us/step - loss: 0.3620 - accuracy: 0.8683\n",
      "Epoch 3/15\n",
      "60000/60000 [==============================] - 4s 74us/step - loss: 0.3116 - accuracy: 0.8851\n",
      "Epoch 4/15\n",
      "60000/60000 [==============================] - 4s 74us/step - loss: 0.2788 - accuracy: 0.8957\n",
      "Epoch 5/15\n",
      "60000/60000 [==============================] - 4s 74us/step - loss: 0.2524 - accuracy: 0.9054\n",
      "Epoch 6/15\n",
      "60000/60000 [==============================] - 4s 74us/step - loss: 0.2347 - accuracy: 0.9116\n",
      "Epoch 7/15\n",
      "60000/60000 [==============================] - 4s 74us/step - loss: 0.2206 - accuracy: 0.9167\n",
      "Epoch 8/15\n",
      "60000/60000 [==============================] - 4s 74us/step - loss: 0.2043 - accuracy: 0.9212\n",
      "Epoch 9/15\n",
      "60000/60000 [==============================] - 4s 74us/step - loss: 0.1929 - accuracy: 0.9260\n",
      "Epoch 10/15\n",
      "60000/60000 [==============================] - 4s 74us/step - loss: 0.1802 - accuracy: 0.9323\n",
      "Epoch 11/15\n",
      "60000/60000 [==============================] - 4s 74us/step - loss: 0.1731 - accuracy: 0.9329\n",
      "Epoch 12/15\n",
      "60000/60000 [==============================] - 4s 74us/step - loss: 0.1612 - accuracy: 0.9377\n",
      "Epoch 13/15\n",
      "60000/60000 [==============================] - 4s 75us/step - loss: 0.1565 - accuracy: 0.9406\n",
      "Epoch 14/15\n",
      "60000/60000 [==============================] - 4s 73us/step - loss: 0.1467 - accuracy: 0.9442\n",
      "Epoch 15/15\n",
      "60000/60000 [==============================] - 4s 73us/step - loss: 0.1406 - accuracy: 0.9464\n"
     ]
    },
    {
     "data": {
      "text/plain": [
       "<keras.callbacks.callbacks.History at 0x7f290359df98>"
      ]
     },
     "execution_count": 67,
     "metadata": {
      "tags": []
     },
     "output_type": "execute_result"
    }
   ],
   "source": [
    "fashion_cnn.fit(x_train,\n",
    "                y_train,\n",
    "                batch_size=128,\n",
    "                epochs=15)"
   ]
  },
  {
   "cell_type": "code",
   "execution_count": 68,
   "metadata": {
    "colab": {
     "base_uri": "https://localhost:8080/",
     "height": 35
    },
    "colab_type": "code",
    "id": "KAk8OTzri9eH",
    "outputId": "f7defbd2-b891-4e3e-d017-7eb090216084"
   },
   "outputs": [
    {
     "name": "stdout",
     "output_type": "stream",
     "text": [
      "10000/10000 [==============================] - 1s 91us/step\n"
     ]
    }
   ],
   "source": [
    "score = fashion_cnn.evaluate(x_test,y_test)"
   ]
  },
  {
   "cell_type": "code",
   "execution_count": 69,
   "metadata": {
    "colab": {
     "base_uri": "https://localhost:8080/",
     "height": 52
    },
    "colab_type": "code",
    "id": "-Dbhv1wAjVuV",
    "outputId": "0678ea6b-90ec-435a-d505-40ce336b9b88"
   },
   "outputs": [
    {
     "name": "stdout",
     "output_type": "stream",
     "text": [
      "Testing Accuracy: 91.35%\n",
      "Testing Loss: 0.2941\n"
     ]
    }
   ],
   "source": [
    "print(f'Testing Accuracy: {round(score[1]*100,4)}%')\n",
    "print(f'Testing Loss: {round(score[0],4)}')"
   ]
  },
  {
   "cell_type": "markdown",
   "metadata": {
    "colab_type": "text",
    "id": "ZkqzJDwwjX5a"
   },
   "source": [
    "### ***Can your model score higher? ^^***"
   ]
  }
 ],
 "metadata": {
  "accelerator": "GPU",
  "colab": {
   "name": "index.ipynb",
   "provenance": []
  },
  "kernelspec": {
   "display_name": "Python 3",
   "language": "python",
   "name": "python3"
  },
  "language_info": {
   "codemirror_mode": {
    "name": "ipython",
    "version": 3
   },
   "file_extension": ".py",
   "mimetype": "text/x-python",
   "name": "python",
   "nbconvert_exporter": "python",
   "pygments_lexer": "ipython3",
   "version": "3.7.4"
  }
 },
 "nbformat": 4,
 "nbformat_minor": 1
}
